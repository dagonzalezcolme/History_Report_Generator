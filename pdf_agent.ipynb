{
  "nbformat": 4,
  "nbformat_minor": 0,
  "metadata": {
    "colab": {
      "provenance": []
    },
    "kernelspec": {
      "name": "python3",
      "display_name": "Python 3"
    },
    "language_info": {
      "name": "python"
    }
  },
  "cells": [
    {
      "cell_type": "code",
      "execution_count": 5,
      "metadata": {
        "colab": {
          "base_uri": "https://localhost:8080/"
        },
        "id": "EIbjw7_iWgsz",
        "outputId": "b2149e5b-8ee0-4ed9-a5de-2819bb375ae5"
      },
      "outputs": [
        {
          "output_type": "stream",
          "name": "stdout",
          "text": [
            "Collecting langgraph\n",
            "  Downloading langgraph-0.6.10-py3-none-any.whl.metadata (6.8 kB)\n",
            "Collecting langchain_openai\n",
            "  Downloading langchain_openai-0.3.35-py3-none-any.whl.metadata (2.4 kB)\n",
            "Collecting reportlab\n",
            "  Downloading reportlab-4.4.4-py3-none-any.whl.metadata (1.7 kB)\n",
            "Collecting langchain-groq\n",
            "  Downloading langchain_groq-0.3.8-py3-none-any.whl.metadata (2.6 kB)\n",
            "Requirement already satisfied: langchain-core>=0.1 in /usr/local/lib/python3.12/dist-packages (from langgraph) (0.3.78)\n",
            "Collecting langgraph-checkpoint<3.0.0,>=2.1.0 (from langgraph)\n",
            "  Downloading langgraph_checkpoint-2.1.2-py3-none-any.whl.metadata (4.2 kB)\n",
            "Collecting langgraph-prebuilt<0.7.0,>=0.6.0 (from langgraph)\n",
            "  Downloading langgraph_prebuilt-0.6.4-py3-none-any.whl.metadata (4.5 kB)\n",
            "Collecting langgraph-sdk<0.3.0,>=0.2.2 (from langgraph)\n",
            "  Downloading langgraph_sdk-0.2.9-py3-none-any.whl.metadata (1.5 kB)\n",
            "Requirement already satisfied: pydantic>=2.7.4 in /usr/local/lib/python3.12/dist-packages (from langgraph) (2.11.10)\n",
            "Requirement already satisfied: xxhash>=3.5.0 in /usr/local/lib/python3.12/dist-packages (from langgraph) (3.6.0)\n",
            "Requirement already satisfied: openai<3.0.0,>=1.104.2 in /usr/local/lib/python3.12/dist-packages (from langchain_openai) (1.109.1)\n",
            "Requirement already satisfied: tiktoken<1.0.0,>=0.7.0 in /usr/local/lib/python3.12/dist-packages (from langchain_openai) (0.12.0)\n",
            "Requirement already satisfied: pillow>=9.0.0 in /usr/local/lib/python3.12/dist-packages (from reportlab) (11.3.0)\n",
            "Requirement already satisfied: charset-normalizer in /usr/local/lib/python3.12/dist-packages (from reportlab) (3.4.3)\n",
            "Collecting groq<1,>=0.30.0 (from langchain-groq)\n",
            "  Downloading groq-0.32.0-py3-none-any.whl.metadata (16 kB)\n",
            "Requirement already satisfied: anyio<5,>=3.5.0 in /usr/local/lib/python3.12/dist-packages (from groq<1,>=0.30.0->langchain-groq) (4.11.0)\n",
            "Requirement already satisfied: distro<2,>=1.7.0 in /usr/local/lib/python3.12/dist-packages (from groq<1,>=0.30.0->langchain-groq) (1.9.0)\n",
            "Requirement already satisfied: httpx<1,>=0.23.0 in /usr/local/lib/python3.12/dist-packages (from groq<1,>=0.30.0->langchain-groq) (0.28.1)\n",
            "Requirement already satisfied: sniffio in /usr/local/lib/python3.12/dist-packages (from groq<1,>=0.30.0->langchain-groq) (1.3.1)\n",
            "Requirement already satisfied: typing-extensions<5,>=4.10 in /usr/local/lib/python3.12/dist-packages (from groq<1,>=0.30.0->langchain-groq) (4.15.0)\n",
            "Requirement already satisfied: langsmith<1.0.0,>=0.3.45 in /usr/local/lib/python3.12/dist-packages (from langchain-core>=0.1->langgraph) (0.4.33)\n",
            "Requirement already satisfied: tenacity!=8.4.0,<10.0.0,>=8.1.0 in /usr/local/lib/python3.12/dist-packages (from langchain-core>=0.1->langgraph) (8.5.0)\n",
            "Requirement already satisfied: jsonpatch<2.0.0,>=1.33.0 in /usr/local/lib/python3.12/dist-packages (from langchain-core>=0.1->langgraph) (1.33)\n",
            "Requirement already satisfied: PyYAML<7.0.0,>=5.3.0 in /usr/local/lib/python3.12/dist-packages (from langchain-core>=0.1->langgraph) (6.0.3)\n",
            "Requirement already satisfied: packaging<26.0.0,>=23.2.0 in /usr/local/lib/python3.12/dist-packages (from langchain-core>=0.1->langgraph) (25.0)\n",
            "Collecting ormsgpack>=1.10.0 (from langgraph-checkpoint<3.0.0,>=2.1.0->langgraph)\n",
            "  Downloading ormsgpack-1.11.0-cp312-cp312-manylinux_2_17_x86_64.manylinux2014_x86_64.whl.metadata (1.2 kB)\n",
            "Requirement already satisfied: orjson>=3.10.1 in /usr/local/lib/python3.12/dist-packages (from langgraph-sdk<0.3.0,>=0.2.2->langgraph) (3.11.3)\n",
            "Requirement already satisfied: jiter<1,>=0.4.0 in /usr/local/lib/python3.12/dist-packages (from openai<3.0.0,>=1.104.2->langchain_openai) (0.11.0)\n",
            "Requirement already satisfied: tqdm>4 in /usr/local/lib/python3.12/dist-packages (from openai<3.0.0,>=1.104.2->langchain_openai) (4.67.1)\n",
            "Requirement already satisfied: annotated-types>=0.6.0 in /usr/local/lib/python3.12/dist-packages (from pydantic>=2.7.4->langgraph) (0.7.0)\n",
            "Requirement already satisfied: pydantic-core==2.33.2 in /usr/local/lib/python3.12/dist-packages (from pydantic>=2.7.4->langgraph) (2.33.2)\n",
            "Requirement already satisfied: typing-inspection>=0.4.0 in /usr/local/lib/python3.12/dist-packages (from pydantic>=2.7.4->langgraph) (0.4.2)\n",
            "Requirement already satisfied: regex>=2022.1.18 in /usr/local/lib/python3.12/dist-packages (from tiktoken<1.0.0,>=0.7.0->langchain_openai) (2024.11.6)\n",
            "Requirement already satisfied: requests>=2.26.0 in /usr/local/lib/python3.12/dist-packages (from tiktoken<1.0.0,>=0.7.0->langchain_openai) (2.32.4)\n",
            "Requirement already satisfied: idna>=2.8 in /usr/local/lib/python3.12/dist-packages (from anyio<5,>=3.5.0->groq<1,>=0.30.0->langchain-groq) (3.10)\n",
            "Requirement already satisfied: certifi in /usr/local/lib/python3.12/dist-packages (from httpx<1,>=0.23.0->groq<1,>=0.30.0->langchain-groq) (2025.10.5)\n",
            "Requirement already satisfied: httpcore==1.* in /usr/local/lib/python3.12/dist-packages (from httpx<1,>=0.23.0->groq<1,>=0.30.0->langchain-groq) (1.0.9)\n",
            "Requirement already satisfied: h11>=0.16 in /usr/local/lib/python3.12/dist-packages (from httpcore==1.*->httpx<1,>=0.23.0->groq<1,>=0.30.0->langchain-groq) (0.16.0)\n",
            "Requirement already satisfied: jsonpointer>=1.9 in /usr/local/lib/python3.12/dist-packages (from jsonpatch<2.0.0,>=1.33.0->langchain-core>=0.1->langgraph) (3.0.0)\n",
            "Requirement already satisfied: requests-toolbelt>=1.0.0 in /usr/local/lib/python3.12/dist-packages (from langsmith<1.0.0,>=0.3.45->langchain-core>=0.1->langgraph) (1.0.0)\n",
            "Requirement already satisfied: zstandard>=0.23.0 in /usr/local/lib/python3.12/dist-packages (from langsmith<1.0.0,>=0.3.45->langchain-core>=0.1->langgraph) (0.25.0)\n",
            "Requirement already satisfied: urllib3<3,>=1.21.1 in /usr/local/lib/python3.12/dist-packages (from requests>=2.26.0->tiktoken<1.0.0,>=0.7.0->langchain_openai) (2.5.0)\n",
            "Downloading langgraph-0.6.10-py3-none-any.whl (155 kB)\n",
            "\u001b[2K   \u001b[90m━━━━━━━━━━━━━━━━━━━━━━━━━━━━━━━━━━━━━━━━\u001b[0m \u001b[32m155.4/155.4 kB\u001b[0m \u001b[31m7.0 MB/s\u001b[0m eta \u001b[36m0:00:00\u001b[0m\n",
            "\u001b[?25hDownloading langchain_openai-0.3.35-py3-none-any.whl (75 kB)\n",
            "\u001b[2K   \u001b[90m━━━━━━━━━━━━━━━━━━━━━━━━━━━━━━━━━━━━━━━━\u001b[0m \u001b[32m76.0/76.0 kB\u001b[0m \u001b[31m5.1 MB/s\u001b[0m eta \u001b[36m0:00:00\u001b[0m\n",
            "\u001b[?25hDownloading reportlab-4.4.4-py3-none-any.whl (2.0 MB)\n",
            "\u001b[2K   \u001b[90m━━━━━━━━━━━━━━━━━━━━━━━━━━━━━━━━━━━━━━━━\u001b[0m \u001b[32m2.0/2.0 MB\u001b[0m \u001b[31m53.9 MB/s\u001b[0m eta \u001b[36m0:00:00\u001b[0m\n",
            "\u001b[?25hDownloading langchain_groq-0.3.8-py3-none-any.whl (16 kB)\n",
            "Downloading groq-0.32.0-py3-none-any.whl (135 kB)\n",
            "\u001b[2K   \u001b[90m━━━━━━━━━━━━━━━━━━━━━━━━━━━━━━━━━━━━━━━━\u001b[0m \u001b[32m135.4/135.4 kB\u001b[0m \u001b[31m9.2 MB/s\u001b[0m eta \u001b[36m0:00:00\u001b[0m\n",
            "\u001b[?25hDownloading langgraph_checkpoint-2.1.2-py3-none-any.whl (45 kB)\n",
            "\u001b[2K   \u001b[90m━━━━━━━━━━━━━━━━━━━━━━━━━━━━━━━━━━━━━━━━\u001b[0m \u001b[32m45.8/45.8 kB\u001b[0m \u001b[31m3.0 MB/s\u001b[0m eta \u001b[36m0:00:00\u001b[0m\n",
            "\u001b[?25hDownloading langgraph_prebuilt-0.6.4-py3-none-any.whl (28 kB)\n",
            "Downloading langgraph_sdk-0.2.9-py3-none-any.whl (56 kB)\n",
            "\u001b[2K   \u001b[90m━━━━━━━━━━━━━━━━━━━━━━━━━━━━━━━━━━━━━━━━\u001b[0m \u001b[32m56.8/56.8 kB\u001b[0m \u001b[31m3.6 MB/s\u001b[0m eta \u001b[36m0:00:00\u001b[0m\n",
            "\u001b[?25hDownloading ormsgpack-1.11.0-cp312-cp312-manylinux_2_17_x86_64.manylinux2014_x86_64.whl (207 kB)\n",
            "\u001b[2K   \u001b[90m━━━━━━━━━━━━━━━━━━━━━━━━━━━━━━━━━━━━━━━━\u001b[0m \u001b[32m207.6/207.6 kB\u001b[0m \u001b[31m14.9 MB/s\u001b[0m eta \u001b[36m0:00:00\u001b[0m\n",
            "\u001b[?25hInstalling collected packages: reportlab, ormsgpack, langgraph-sdk, groq, langgraph-checkpoint, langchain_openai, langchain-groq, langgraph-prebuilt, langgraph\n",
            "Successfully installed groq-0.32.0 langchain-groq-0.3.8 langchain_openai-0.3.35 langgraph-0.6.10 langgraph-checkpoint-2.1.2 langgraph-prebuilt-0.6.4 langgraph-sdk-0.2.9 ormsgpack-1.11.0 reportlab-4.4.4\n",
            "Requirement already satisfied: langgraph in /usr/local/lib/python3.12/dist-packages (0.6.10)\n",
            "Requirement already satisfied: langchain-core>=0.1 in /usr/local/lib/python3.12/dist-packages (from langgraph) (0.3.78)\n",
            "Requirement already satisfied: langgraph-checkpoint<3.0.0,>=2.1.0 in /usr/local/lib/python3.12/dist-packages (from langgraph) (2.1.2)\n",
            "Requirement already satisfied: langgraph-prebuilt<0.7.0,>=0.6.0 in /usr/local/lib/python3.12/dist-packages (from langgraph) (0.6.4)\n",
            "Requirement already satisfied: langgraph-sdk<0.3.0,>=0.2.2 in /usr/local/lib/python3.12/dist-packages (from langgraph) (0.2.9)\n",
            "Requirement already satisfied: pydantic>=2.7.4 in /usr/local/lib/python3.12/dist-packages (from langgraph) (2.11.10)\n",
            "Requirement already satisfied: xxhash>=3.5.0 in /usr/local/lib/python3.12/dist-packages (from langgraph) (3.6.0)\n",
            "Requirement already satisfied: langsmith<1.0.0,>=0.3.45 in /usr/local/lib/python3.12/dist-packages (from langchain-core>=0.1->langgraph) (0.4.33)\n",
            "Requirement already satisfied: tenacity!=8.4.0,<10.0.0,>=8.1.0 in /usr/local/lib/python3.12/dist-packages (from langchain-core>=0.1->langgraph) (8.5.0)\n",
            "Requirement already satisfied: jsonpatch<2.0.0,>=1.33.0 in /usr/local/lib/python3.12/dist-packages (from langchain-core>=0.1->langgraph) (1.33)\n",
            "Requirement already satisfied: PyYAML<7.0.0,>=5.3.0 in /usr/local/lib/python3.12/dist-packages (from langchain-core>=0.1->langgraph) (6.0.3)\n",
            "Requirement already satisfied: typing-extensions<5.0.0,>=4.7.0 in /usr/local/lib/python3.12/dist-packages (from langchain-core>=0.1->langgraph) (4.15.0)\n",
            "Requirement already satisfied: packaging<26.0.0,>=23.2.0 in /usr/local/lib/python3.12/dist-packages (from langchain-core>=0.1->langgraph) (25.0)\n",
            "Requirement already satisfied: ormsgpack>=1.10.0 in /usr/local/lib/python3.12/dist-packages (from langgraph-checkpoint<3.0.0,>=2.1.0->langgraph) (1.11.0)\n",
            "Requirement already satisfied: httpx>=0.25.2 in /usr/local/lib/python3.12/dist-packages (from langgraph-sdk<0.3.0,>=0.2.2->langgraph) (0.28.1)\n",
            "Requirement already satisfied: orjson>=3.10.1 in /usr/local/lib/python3.12/dist-packages (from langgraph-sdk<0.3.0,>=0.2.2->langgraph) (3.11.3)\n",
            "Requirement already satisfied: annotated-types>=0.6.0 in /usr/local/lib/python3.12/dist-packages (from pydantic>=2.7.4->langgraph) (0.7.0)\n",
            "Requirement already satisfied: pydantic-core==2.33.2 in /usr/local/lib/python3.12/dist-packages (from pydantic>=2.7.4->langgraph) (2.33.2)\n",
            "Requirement already satisfied: typing-inspection>=0.4.0 in /usr/local/lib/python3.12/dist-packages (from pydantic>=2.7.4->langgraph) (0.4.2)\n",
            "Requirement already satisfied: anyio in /usr/local/lib/python3.12/dist-packages (from httpx>=0.25.2->langgraph-sdk<0.3.0,>=0.2.2->langgraph) (4.11.0)\n",
            "Requirement already satisfied: certifi in /usr/local/lib/python3.12/dist-packages (from httpx>=0.25.2->langgraph-sdk<0.3.0,>=0.2.2->langgraph) (2025.10.5)\n",
            "Requirement already satisfied: httpcore==1.* in /usr/local/lib/python3.12/dist-packages (from httpx>=0.25.2->langgraph-sdk<0.3.0,>=0.2.2->langgraph) (1.0.9)\n",
            "Requirement already satisfied: idna in /usr/local/lib/python3.12/dist-packages (from httpx>=0.25.2->langgraph-sdk<0.3.0,>=0.2.2->langgraph) (3.10)\n",
            "Requirement already satisfied: h11>=0.16 in /usr/local/lib/python3.12/dist-packages (from httpcore==1.*->httpx>=0.25.2->langgraph-sdk<0.3.0,>=0.2.2->langgraph) (0.16.0)\n",
            "Requirement already satisfied: jsonpointer>=1.9 in /usr/local/lib/python3.12/dist-packages (from jsonpatch<2.0.0,>=1.33.0->langchain-core>=0.1->langgraph) (3.0.0)\n",
            "Requirement already satisfied: requests-toolbelt>=1.0.0 in /usr/local/lib/python3.12/dist-packages (from langsmith<1.0.0,>=0.3.45->langchain-core>=0.1->langgraph) (1.0.0)\n",
            "Requirement already satisfied: requests>=2.0.0 in /usr/local/lib/python3.12/dist-packages (from langsmith<1.0.0,>=0.3.45->langchain-core>=0.1->langgraph) (2.32.4)\n",
            "Requirement already satisfied: zstandard>=0.23.0 in /usr/local/lib/python3.12/dist-packages (from langsmith<1.0.0,>=0.3.45->langchain-core>=0.1->langgraph) (0.25.0)\n",
            "Requirement already satisfied: charset_normalizer<4,>=2 in /usr/local/lib/python3.12/dist-packages (from requests>=2.0.0->langsmith<1.0.0,>=0.3.45->langchain-core>=0.1->langgraph) (3.4.3)\n",
            "Requirement already satisfied: urllib3<3,>=1.21.1 in /usr/local/lib/python3.12/dist-packages (from requests>=2.0.0->langsmith<1.0.0,>=0.3.45->langchain-core>=0.1->langgraph) (2.5.0)\n",
            "Requirement already satisfied: sniffio>=1.1 in /usr/local/lib/python3.12/dist-packages (from anyio->httpx>=0.25.2->langgraph-sdk<0.3.0,>=0.2.2->langgraph) (1.3.1)\n"
          ]
        }
      ],
      "source": [
        "!pip install langgraph langchain_openai reportlab langchain-groq"
      ]
    },
    {
      "cell_type": "code",
      "source": [
        "import os, re\n",
        "from typing import Dict, TypedDict, Optional, List, Any, Annotated\n",
        "from langgraph.graph import START, StateGraph, END\n",
        "from langchain_core.prompts import ChatPromptTemplate\n",
        "from langgraph.prebuilt import ToolNode, tools_condition, create_react_agent\n",
        "from langchain_core.tools import tool\n",
        "from langgraph.checkpoint.memory import MemorySaver\n",
        "from google.colab import userdata\n",
        "from langchain_groq import ChatGroq\n",
        "from groq import Groq\n",
        "from typing import TypedDict, List\n",
        "from reportlab.pdfgen import canvas\n",
        "from reportlab.lib.pagesizes import letter\n",
        "from reportlab.lib.styles import getSampleStyleSheet, ParagraphStyle\n",
        "from reportlab.platypus import SimpleDocTemplate, Paragraph, Spacer\n",
        "from reportlab.lib.units import inch\n",
        "from google.colab import files\n"
      ],
      "metadata": {
        "id": "DEpCpKqfXfqM"
      },
      "execution_count": 16,
      "outputs": []
    },
    {
      "cell_type": "code",
      "source": [
        "GROQ_API_KEY = userdata.get('GROQ_API_KEY')\n",
        "os.environ['GROQ_API_KEY'] = GROQ_API_KEY\n",
        "\n",
        "llm = \"llama-3.1-8b-instant\"\n",
        "chat_groq_llm = ChatGroq(model_name=llm, groq_api_key=GROQ_API_KEY)\n",
        "if not GROQ_API_KEY:\n",
        "  raise ValueError(\"GROQ_API_KEY key not found in colab secrets. Please add it or give access.\")"
      ],
      "metadata": {
        "id": "6cI23BFRZjV8"
      },
      "execution_count": 17,
      "outputs": []
    },
    {
      "cell_type": "code",
      "source": [
        "class ReportState(TypedDict):\n",
        "    rewritten_output: str\n",
        "    formatted_text: Optional[str]\n",
        "    pdf_path: Optional[str]\n",
        "    final_response: Optional[str]"
      ],
      "metadata": {
        "id": "L9vxBu0vnNem"
      },
      "execution_count": 18,
      "outputs": []
    },
    {
      "cell_type": "code",
      "source": [
        "def formatted_pdf(content:str, filename: str) -> str:\n",
        "  file_path = f\"/content/{filename}\"\n",
        "\n",
        "  doc = SimpleDocTemplate(file_path, pagesize=letter,\n",
        "                          leftMargin= 1*inch, bottomMargin= 1*inch,\n",
        "                          topMargin = 1*inch, rightMargin = 1*inch)\n",
        "\n",
        "  styles = getSampleStyleSheet()\n",
        "  title_style = ParagraphStyle(\n",
        "      'CustomTitle',\n",
        "      parent=styles['Heading1'],\n",
        "      spaceAfter = 30,\n",
        "      alignment = 1\n",
        "  )\n",
        "  body_style = styles['BodyText']\n",
        "\n",
        "  story = []\n",
        "\n",
        "  title = Paragraph(\"Research Report\", title_style)\n",
        "  story.append(title)\n",
        "\n",
        "  lines = content.split('\\n')\n",
        "  for line in lines:\n",
        "    line = line.strip()\n",
        "    if not line:\n",
        "      continue\n",
        "    story.append(Paragraph(line, body_style))\n",
        "\n",
        "  doc.build(story)\n",
        "  return file_path"
      ],
      "metadata": {
        "id": "FuVjh0G_wME0"
      },
      "execution_count": 19,
      "outputs": []
    },
    {
      "cell_type": "code",
      "source": [
        "def report_workflow():\n",
        "  graph = StateGraph(ReportState)\n",
        "  graph.add_node(\"report_generator\", generator_node)\n",
        "  graph.set_entry_point(\"report_generator\")\n",
        "  graph.add_edge(\"report_generator\",END)\n",
        "  return graph.compile()"
      ],
      "metadata": {
        "id": "y8dX3FE9bG8x"
      },
      "execution_count": 22,
      "outputs": []
    },
    {
      "cell_type": "code",
      "source": [
        "def download_pdf(pdf_path:str):\n",
        "  try:\n",
        "    files.download_pdf(pdf_path)\n",
        "    print(\"PDF download started\")\n",
        "  except Exception as e:\n",
        "    print(f\"error downloading PDF: {e} \")"
      ],
      "metadata": {
        "id": "YcP_YdjNbIZ_"
      },
      "execution_count": 24,
      "outputs": []
    },
    {
      "cell_type": "code",
      "source": [
        "def generator_node(state: ReportState) -> ReportState:\n",
        "  rewritten_output = state[\"rewritten_output\"]\n",
        "  prompt = f\"\"\"\n",
        "  You are a report formatter. You take responses that include\n",
        "  - A structured research plan, potentially including:\n",
        "    - A breakdown of the topic into sub-questions.\n",
        "    - Suggested keywords for searching\n",
        "    - Key points from the original prompt to keep in mind.\n",
        "  Format the following information into a structured, clear, and professional report PDF.\n",
        "  Content:\n",
        "  {rewritten_output}\n",
        "  \"\"\"\n",
        "\n",
        "  response = chat_groq_llm.invoke(prompt)\n",
        "  final_response = response.content.strip()\n",
        "\n",
        "  pdf_path = formatted_pdf(final_response,\"Research_report.pdf\")\n",
        "\n",
        "  print(f\"PDF report Generated {pdf_path}\")\n",
        "\n",
        "  return {\n",
        "      \"rewritten_output\": state[\"rewritten_output\"],\n",
        "      \"formatted_text\":state.get(\"formatted_text\"),\n",
        "      \"pdf_path\": pdf_path,\n",
        "      \"final_response\": final_response\n",
        "\n",
        "  }"
      ],
      "metadata": {
        "id": "lsyOlCRds2J3"
      },
      "execution_count": 25,
      "outputs": []
    },
    {
      "cell_type": "code",
      "source": [
        "if __name__ == \"__main__\":\n",
        "    # ✅ Example input\n",
        "    sample_input = {\n",
        "        \"rewritten_output\": \"\"\"\n",
        "        Title: Global Renewable Energy Outlook 2025\n",
        "\n",
        "        Renewable energy adoption has surged globally.\n",
        "        Solar power capacity grew by 28% year-over-year, while wind energy now contributes 19%\n",
        "        of total electricity generation worldwide.\n",
        "\n",
        "        Challenges persist in grid storage, balancing, and supply chain bottlenecks.\n",
        "\n",
        "        Future opportunities:\n",
        "        - AI-driven energy optimization\n",
        "        - Offshore wind expansion\n",
        "        - Recycling lithium-ion batteries for sustainability\n",
        "        \"\"\"\n",
        "    }\n",
        "\n",
        "    workflow = report_workflow()\n",
        "    result = workflow.invoke(sample_input)\n",
        "\n",
        "    print(\"\\n=== FINAL REPORT ===\")\n",
        "    print(result[\"final_response\"])\n",
        "    print(f\"\\nPDF saved at: {result['pdf_path']}\")\n",
        "\n",
        "    try:\n",
        "        files.download(result[\"pdf_path\"])\n",
        "        print(\"✅ PDF download initiated.\")\n",
        "    except Exception as e:\n",
        "        print(f\"⚠️ Could not download PDF automatically: {e}\")\n"
      ],
      "metadata": {
        "colab": {
          "base_uri": "https://localhost:8080/",
          "height": 1000
        },
        "id": "jMZfc0kas4xH",
        "outputId": "bd39ff07-b82e-4c59-c130-ee4c64b5e6bc"
      },
      "execution_count": 26,
      "outputs": [
        {
          "output_type": "stream",
          "name": "stdout",
          "text": [
            "PDF report Generated /content/Research_report.pdf\n",
            "\n",
            "=== FINAL REPORT ===\n",
            "**Global Renewable Energy Outlook 2025**\n",
            "\n",
            "**Executive Summary**\n",
            "\n",
            "The global renewable energy landscape is experiencing a significant surge, with solar power capacity growing by 28% year-over-year and wind energy contributing 19% of total electricity generation worldwide. Despite these advancements, challenges persist in grid storage, balancing, and supply chain bottlenecks. This report provides an outlook on the future of renewable energy, highlighting opportunities and areas for further development.\n",
            "\n",
            "**Research Plan**\n",
            "\n",
            "### Topic Breakdown\n",
            "\n",
            "To better understand the current state and future prospects of renewable energy, the research topic will be broken down into the following sub-questions:\n",
            "\n",
            "1. **What are the current trends and growth rates of solar and wind energy globally?**\n",
            "2. **What are the key challenges facing the renewable energy sector, particularly in grid storage, balancing, and supply chain bottlenecks?**\n",
            "3. **What emerging technologies and opportunities will drive the future growth of renewable energy?**\n",
            "\n",
            "### Suggested Keywords\n",
            "\n",
            "The following keywords will be used to inform the research:\n",
            "\n",
            "* Renewable energy\n",
            "* Solar power\n",
            "* Wind energy\n",
            "* Grid storage\n",
            "* Balancing\n",
            "* Supply chain bottlenecks\n",
            "* AI-driven energy optimization\n",
            "* Offshore wind expansion\n",
            "* Lithium-ion battery recycling\n",
            "\n",
            "### Key Points to Keep in Mind\n",
            "\n",
            "* The report will focus on the global renewable energy landscape, with an emphasis on the current trends and future prospects.\n",
            "* The research will be conducted using primary and secondary sources, including industry reports, academic studies, and government data.\n",
            "* The report will provide recommendations for policymakers, industry leaders, and stakeholders on how to address the challenges and capitalize on the opportunities in the renewable energy sector.\n",
            "\n",
            "**Current State of Renewable Energy**\n",
            "\n",
            "The global renewable energy sector is experiencing rapid growth, with solar power capacity increasing by 28% year-over-year and wind energy contributing 19% of total electricity generation worldwide. This growth is driven by declining costs, improving technology, and increasing demand for clean energy.\n",
            "\n",
            "**Challenges in Renewable Energy**\n",
            "\n",
            "Despite the growth of renewable energy, challenges persist in grid storage, balancing, and supply chain bottlenecks. These challenges must be addressed to ensure a smooth transition to a low-carbon economy.\n",
            "\n",
            "**Future Opportunities**\n",
            "\n",
            "The following emerging technologies and opportunities will drive the future growth of renewable energy:\n",
            "\n",
            "1. **AI-driven energy optimization**: The use of artificial intelligence and machine learning to optimize energy production and consumption.\n",
            "2. **Offshore wind expansion**: The development of offshore wind farms to increase energy production and reduce costs.\n",
            "3. **Recycling lithium-ion batteries for sustainability**: The recycling of lithium-ion batteries to reduce waste and recover valuable materials.\n",
            "\n",
            "**Conclusion**\n",
            "\n",
            "The global renewable energy landscape is experiencing a significant surge, with opportunities for growth and development. However, challenges persist in grid storage, balancing, and supply chain bottlenecks. This report provides an outlook on the future of renewable energy, highlighting the need for innovative solutions and technologies to address these challenges and capitalize on the opportunities.\n",
            "\n",
            "**Recommendations**\n",
            "\n",
            "1. Policymakers should implement policies and regulations to support the growth of renewable energy and address the challenges in grid storage, balancing, and supply chain bottlenecks.\n",
            "2. Industry leaders should invest in emerging technologies and opportunities, such as AI-driven energy optimization, offshore wind expansion, and recycling lithium-ion batteries for sustainability.\n",
            "3. Stakeholders should work together to develop a low-carbon economy and ensure a smooth transition to a renewable energy future.\n",
            "\n",
            "**Appendix**\n",
            "\n",
            "* List of sources used in the research\n",
            "* Additional data and information supporting the findings of the report\n",
            "\n",
            "**References**\n",
            "\n",
            "* International Energy Agency (IEA). (2023). Global Energy Review 2023.\n",
            "* BloombergNEF. (2023). New Energy Outlook 2023.\n",
            "* National Renewable Energy Laboratory (NREL). (2023). Renewable Energy Data Book 2023.\n",
            "\n",
            "**Report Date:** October 2025\n",
            "\n",
            "**Report Prepared By:** [Your Name]\n",
            "\n",
            "PDF saved at: /content/Research_report.pdf\n"
          ]
        },
        {
          "output_type": "display_data",
          "data": {
            "text/plain": [
              "<IPython.core.display.Javascript object>"
            ],
            "application/javascript": [
              "\n",
              "    async function download(id, filename, size) {\n",
              "      if (!google.colab.kernel.accessAllowed) {\n",
              "        return;\n",
              "      }\n",
              "      const div = document.createElement('div');\n",
              "      const label = document.createElement('label');\n",
              "      label.textContent = `Downloading \"${filename}\": `;\n",
              "      div.appendChild(label);\n",
              "      const progress = document.createElement('progress');\n",
              "      progress.max = size;\n",
              "      div.appendChild(progress);\n",
              "      document.body.appendChild(div);\n",
              "\n",
              "      const buffers = [];\n",
              "      let downloaded = 0;\n",
              "\n",
              "      const channel = await google.colab.kernel.comms.open(id);\n",
              "      // Send a message to notify the kernel that we're ready.\n",
              "      channel.send({})\n",
              "\n",
              "      for await (const message of channel.messages) {\n",
              "        // Send a message to notify the kernel that we're ready.\n",
              "        channel.send({})\n",
              "        if (message.buffers) {\n",
              "          for (const buffer of message.buffers) {\n",
              "            buffers.push(buffer);\n",
              "            downloaded += buffer.byteLength;\n",
              "            progress.value = downloaded;\n",
              "          }\n",
              "        }\n",
              "      }\n",
              "      const blob = new Blob(buffers, {type: 'application/binary'});\n",
              "      const a = document.createElement('a');\n",
              "      a.href = window.URL.createObjectURL(blob);\n",
              "      a.download = filename;\n",
              "      div.appendChild(a);\n",
              "      a.click();\n",
              "      div.remove();\n",
              "    }\n",
              "  "
            ]
          },
          "metadata": {}
        },
        {
          "output_type": "display_data",
          "data": {
            "text/plain": [
              "<IPython.core.display.Javascript object>"
            ],
            "application/javascript": [
              "download(\"download_33f2c2bc-1d39-49f1-93bd-94385886522f\", \"Research_report.pdf\", 4872)"
            ]
          },
          "metadata": {}
        },
        {
          "output_type": "stream",
          "name": "stdout",
          "text": [
            "✅ PDF download initiated.\n"
          ]
        }
      ]
    },
    {
      "cell_type": "code",
      "source": [],
      "metadata": {
        "id": "eL-jPF64bK7O"
      },
      "execution_count": null,
      "outputs": []
    }
  ]
}